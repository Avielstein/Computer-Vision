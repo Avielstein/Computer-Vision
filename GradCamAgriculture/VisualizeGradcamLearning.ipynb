{
 "cells": [
  {
   "cell_type": "markdown",
   "id": "dbec5bbb-fc19-492a-8c16-05f9e9e23f81",
   "metadata": {},
   "source": [
    "# make video from saved images"
   ]
  },
  {
   "cell_type": "code",
   "execution_count": 21,
   "id": "3b2d2065-b41c-4f23-94c7-9e006174d05b",
   "metadata": {},
   "outputs": [
    {
     "name": "stdout",
     "output_type": "stream",
     "text": [
      "grad_cam_images/epoch_1.jpg\n",
      "grad_cam_images/epoch_2.jpg\n",
      "grad_cam_images/epoch_3.jpg\n",
      "grad_cam_images/epoch_4.jpg\n",
      "grad_cam_images/epoch_5.jpg\n",
      "grad_cam_images/epoch_6.jpg\n",
      "grad_cam_images/epoch_7.jpg\n",
      "grad_cam_images/epoch_8.jpg\n",
      "grad_cam_images/epoch_9.jpg\n",
      "grad_cam_images/epoch_10.jpg\n",
      "grad_cam_images/epoch_11.jpg\n",
      "grad_cam_images/epoch_12.jpg\n",
      "grad_cam_images/epoch_13.jpg\n",
      "grad_cam_images/epoch_14.jpg\n",
      "grad_cam_images/epoch_15.jpg\n",
      "grad_cam_images/epoch_16.jpg\n",
      "grad_cam_images/epoch_17.jpg\n",
      "grad_cam_images/epoch_18.jpg\n",
      "grad_cam_images/epoch_19.jpg\n",
      "grad_cam_images/epoch_20.jpg\n",
      "grad_cam_images/epoch_21.jpg\n",
      "grad_cam_images/epoch_22.jpg\n",
      "grad_cam_images/epoch_23.jpg\n",
      "grad_cam_images/epoch_24.jpg\n",
      "grad_cam_images/epoch_25.jpg\n",
      "grad_cam_images/epoch_26.jpg\n",
      "grad_cam_images/epoch_27.jpg\n",
      "grad_cam_images/epoch_28.jpg\n",
      "grad_cam_images/epoch_29.jpg\n",
      "grad_cam_images/epoch_30.jpg\n",
      "grad_cam_images/epoch_31.jpg\n",
      "grad_cam_images/epoch_32.jpg\n",
      "grad_cam_images/epoch_33.jpg\n",
      "grad_cam_images/epoch_34.jpg\n",
      "grad_cam_images/epoch_35.jpg\n",
      "grad_cam_images/epoch_36.jpg\n",
      "grad_cam_images/epoch_37.jpg\n"
     ]
    },
    {
     "data": {
      "text/html": [
       "<video src=\"gradcam_evolution.mp4\" controls  >\n",
       "      Your browser does not support the <code>video</code> element.\n",
       "    </video>"
      ],
      "text/plain": [
       "<IPython.core.display.Video object>"
      ]
     },
     "execution_count": 21,
     "metadata": {},
     "output_type": "execute_result"
    }
   ],
   "source": [
    "import cv2\n",
    "import os\n",
    "import re\n",
    "\n",
    "def sort_key(filename):\n",
    "    \"\"\"Extracts the number from the filename and returns it for sorting.\"\"\"\n",
    "    numbers = re.findall(r'\\d+', filename)\n",
    "    if numbers:\n",
    "        return int(numbers[0])\n",
    "    return filename\n",
    "\n",
    "# Specify the directory where the images are saved\n",
    "output_dir = 'grad_cam_images'\n",
    "\n",
    "# Use the custom sort_key function to sort the images numerically\n",
    "images = sorted(\n",
    "    [os.path.join(output_dir, img) for img in os.listdir(output_dir) if img.endswith('.jpg')],\n",
    "    key=sort_key\n",
    ")\n",
    "\n",
    "# Assuming all images are of the same size\n",
    "img = cv2.imread(images[0])\n",
    "height, width = img.shape[:2]\n",
    "\n",
    "# Create a video writer object\n",
    "out = cv2.VideoWriter('gradcam_evolution.mp4', cv2.VideoWriter_fourcc(*'mp4v'), 1, (width, height))\n",
    "\n",
    "for image_path in images:\n",
    "    print(image_path)  # This should now print in the correct order\n",
    "    img = cv2.imread(image_path)\n",
    "    out.write(img)  # Write each frame to the video\n",
    "\n",
    "out.release()  # Properly close the video file\n",
    "\n",
    "# Display the video in the notebook\n",
    "from IPython.display import Video\n",
    "\n",
    "# Specify the path to the video file\n",
    "video_path = 'gradcam_evolution.mp4'\n",
    "\n",
    "# Display the video in the notebook\n",
    "Video(video_path)\n"
   ]
  }
 ],
 "metadata": {
  "kernelspec": {
   "display_name": "Python 3 (ipykernel)",
   "language": "python",
   "name": "python3"
  },
  "language_info": {
   "codemirror_mode": {
    "name": "ipython",
    "version": 3
   },
   "file_extension": ".py",
   "mimetype": "text/x-python",
   "name": "python",
   "nbconvert_exporter": "python",
   "pygments_lexer": "ipython3",
   "version": "3.11.5"
  }
 },
 "nbformat": 4,
 "nbformat_minor": 5
}
